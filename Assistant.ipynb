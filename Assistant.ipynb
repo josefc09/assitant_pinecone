{
 "cells": [
  {
   "cell_type": "code",
   "execution_count": 1,
   "id": "27f62f76",
   "metadata": {},
   "outputs": [
    {
     "name": "stderr",
     "output_type": "stream",
     "text": [
      "/home/josefc/dev/test_to_drop/env/lib/python3.12/site-packages/tqdm/auto.py:21: TqdmWarning: IProgress not found. Please update jupyter and ipywidgets. See https://ipywidgets.readthedocs.io/en/stable/user_install.html\n",
      "  from .autonotebook import tqdm as notebook_tqdm\n"
     ]
    },
    {
     "data": {
      "text/plain": [
       "True"
      ]
     },
     "execution_count": 1,
     "metadata": {},
     "output_type": "execute_result"
    }
   ],
   "source": [
    "import os\n",
    "import time\n",
    "import requests\n",
    "from dotenv import load_dotenv\n",
    "# Importaciones de Pinecone\n",
    "from pinecone import Pinecone, ServerlessSpec\n",
    "# Importaciones de Langchain\n",
    "from langchain.document_loaders import PyPDFLoader\n",
    "from langchain_text_splitters import RecursiveCharacterTextSplitter # Importación corregida\n",
    "from langchain.embeddings import HuggingFaceEmbeddings\n",
    "from langchain_pinecone import PineconeVectorStore\n",
    "load_dotenv()"
   ]
  },
  {
   "cell_type": "code",
   "execution_count": 2,
   "id": "19f006c2",
   "metadata": {},
   "outputs": [
    {
     "name": "stdout",
     "output_type": "stream",
     "text": [
      "Usando índice de Pinecone: myindex2\n",
      "Dimensión de embeddings: 384\n",
      "Modelo de embeddings: sentence-transformers/paraphrase-multilingual-MiniLM-L12-v2\n"
     ]
    }
   ],
   "source": [
    "PINECONE_API_KEY = os.getenv(\"PINECONE_API_KEY\")\n",
    "PINECONE_INDEX_NAME = os.getenv(\"PINECONE_INDEX_NAME\")\n",
    "ARCHIVOS_URL = [\n",
    "    \"https://preguntapdf.s3.eu-south-2.amazonaws.com/la-rosaleda_v3.pdf\",\n",
    "    \"https://preguntapdf.s3.eu-south-2.amazonaws.com/GuiaViajeMexicoDF.pdf\"\n",
    "]\n",
    "\n",
    "NOMBRE_ARCHIVO_PDF_LOCAL = ARCHIVOS_URL[0].split(\"/\")[-1]\n",
    "# \"sentence-transformers/paraphrase-multilingual-MiniLM-L12-v2\" tiene una dimensión de 384.\n",
    "EMBEDDING_DIMENSION = 384 # Corregido para el modelo especificado\n",
    "PINECONE_NAMESPACE = None\n",
    "# Nombre del modelo de embeddings de HuggingFace\n",
    "MODELO_EMBEDDINGS = \"sentence-transformers/paraphrase-multilingual-MiniLM-L12-v2\"\n",
    "\n",
    "if not PINECONE_API_KEY or not PINECONE_INDEX_NAME:\n",
    "    raise ValueError(\"Las variables de entorno PINECONE_API_KEY y PINECONE_INDEX_NAME deben estar configuradas.\")\n",
    "\n",
    "print(f\"Usando índice de Pinecone: {PINECONE_INDEX_NAME}\")\n",
    "print(f\"Dimensión de embeddings: {EMBEDDING_DIMENSION}\")\n",
    "print(f\"Modelo de embeddings: {MODELO_EMBEDDINGS}\")"
   ]
  },
  {
   "cell_type": "code",
   "execution_count": 3,
   "id": "f0abd5dd",
   "metadata": {},
   "outputs": [
    {
     "name": "stdout",
     "output_type": "stream",
     "text": [
      "Descargando la-rosaleda_v3.pdf desde https://preguntapdf.s3.eu-south-2.amazonaws.com/la-rosaleda_v3.pdf...\n",
      "la-rosaleda_v3.pdf descargado y guardado.\n",
      "Descargando GuiaViajeMexicoDF.pdf desde https://preguntapdf.s3.eu-south-2.amazonaws.com/GuiaViajeMexicoDF.pdf...\n",
      "GuiaViajeMexicoDF.pdf descargado y guardado.\n"
     ]
    }
   ],
   "source": [
    "for url in ARCHIVOS_URL:\n",
    "    nombre_archivo = url.split(\"/\")[-1]\n",
    "    if not os.path.exists(nombre_archivo): # Descargar solo si no existe\n",
    "        try:\n",
    "            print(f\"Descargando {nombre_archivo} desde {url}...\")\n",
    "            doc_to_download = requests.get(url, timeout=30) # Añadido timeout\n",
    "            doc_to_download.raise_for_status() # Lanza un error para respuestas HTTP malas (4xx o 5xx)\n",
    "            with open(nombre_archivo, \"wb\") as pdf_file:\n",
    "                pdf_file.write(doc_to_download.content)\n",
    "            print(f\"{nombre_archivo} descargado y guardado.\")\n",
    "        except requests.exceptions.RequestException as e:\n",
    "            print(f\"Error al descargar {nombre_archivo}: {e}\")\n",
    "    else:\n",
    "        print(f\"El archivo {nombre_archivo} ya existe localmente.\")"
   ]
  },
  {
   "cell_type": "code",
   "execution_count": 4,
   "id": "e12ab92c",
   "metadata": {},
   "outputs": [
    {
     "name": "stdout",
     "output_type": "stream",
     "text": [
      "PDF cargado. Número de páginas/documentos iniciales: 2\n",
      "Documentos divididos en 7 chunks.\n",
      "Ejemplo de chunk: 'Bienvenidos a La Rosaleda. \n",
      "El recinto blanquiazul, con más de 75 años de  historia, es la casa del ...'\n"
     ]
    }
   ],
   "source": [
    "try:\n",
    "    loader = PyPDFLoader(NOMBRE_ARCHIVO_PDF_LOCAL)\n",
    "    documentos_cargados = loader.load() # .load() devuelve una lista de Documentos\n",
    "    print(f\"PDF cargado. Número de páginas/documentos iniciales: {len(documentos_cargados)}\")\n",
    "\n",
    "    # Función para dividir los documentos en chunks más pequeños\n",
    "    text_splitter = RecursiveCharacterTextSplitter(\n",
    "        chunk_size=800,      # Tamaño deseado para cada chunk\n",
    "        chunk_overlap=100,   # Superposición entre chunks para mantener contexto\n",
    "        length_function=len  # Función para medir la longitud (caracteres por defecto)\n",
    "    )\n",
    "    chunks = text_splitter.split_documents(documentos_cargados)\n",
    "    print(f\"Documentos divididos en {len(chunks)} chunks.\")\n",
    "    if chunks:\n",
    "        print(f\"Ejemplo de chunk: '{chunks[0].page_content[:100]}...'\")\n",
    "\n",
    "except Exception as e:\n",
    "    print(f\"Error al cargar o dividir el PDF: {e}\")\n",
    "    raise"
   ]
  },
  {
   "cell_type": "code",
   "execution_count": 5,
   "id": "40a0bfaa",
   "metadata": {},
   "outputs": [
    {
     "name": "stderr",
     "output_type": "stream",
     "text": [
      "/tmp/ipykernel_251776/2978058678.py:2: LangChainDeprecationWarning: The class `HuggingFaceEmbeddings` was deprecated in LangChain 0.2.2 and will be removed in 1.0. An updated version of the class exists in the :class:`~langchain-huggingface package and should be used instead. To use it run `pip install -U :class:`~langchain-huggingface` and import as `from :class:`~langchain_huggingface import HuggingFaceEmbeddings``.\n",
      "  embeddings = HuggingFaceEmbeddings(model_name=MODELO_EMBEDDINGS)\n",
      "/home/josefc/dev/test_to_drop/env/lib/python3.12/site-packages/torch/cuda/__init__.py:174: UserWarning: CUDA initialization: CUDA unknown error - this may be due to an incorrectly set up environment, e.g. changing env variable CUDA_VISIBLE_DEVICES after program start. Setting the available devices to be zero. (Triggered internally at /pytorch/c10/cuda/CUDAFunctions.cpp:109.)\n",
      "  return torch._C._cuda_getDeviceCount() > 0\n"
     ]
    },
    {
     "name": "stdout",
     "output_type": "stream",
     "text": [
      "Modelo de embeddings 'sentence-transformers/paraphrase-multilingual-MiniLM-L12-v2' inicializado.\n"
     ]
    }
   ],
   "source": [
    "try:\n",
    "    embeddings = HuggingFaceEmbeddings(model_name=MODELO_EMBEDDINGS)\n",
    "    print(f\"Modelo de embeddings '{MODELO_EMBEDDINGS}' inicializado.\")\n",
    "    # Prueba rápida del modelo de embeddings (opcional)\n",
    "    # test_embedding = embeddings.embed_query(\"Esto es una prueba.\")\n",
    "    # print(f\"Dimensión del embedding de prueba: {len(test_embedding)}\")\n",
    "except Exception as e:\n",
    "    print(f\"Error al inicializar el modelo de embeddings: {e}\")\n",
    "    raise"
   ]
  },
  {
   "cell_type": "code",
   "execution_count": 6,
   "id": "b40365e2",
   "metadata": {},
   "outputs": [
    {
     "name": "stdout",
     "output_type": "stream",
     "text": [
      "Inicializando cliente Pinecone...\n",
      "Cliente Pinecone inicializado.\n",
      "Comprobando/Creando índice serverless 'myindex2'...\n",
      "Índice 'myindex2' ya existe.\n",
      "Host para el índice 'myindex2': myindex2-2sr4jlm.svc.aped-4627-b74a.pinecone.io\n",
      "Cliente de índice Pinecone para el host 'myindex2-2sr4jlm.svc.aped-4627-b74a.pinecone.io' inicializado.\n"
     ]
    }
   ],
   "source": [
    "print(\"Inicializando cliente Pinecone...\")\n",
    "try:\n",
    "    pc = Pinecone(api_key=PINECONE_API_KEY)\n",
    "    print(\"Cliente Pinecone inicializado.\")\n",
    "except Exception as e:\n",
    "    print(f\"Error inicializando cliente Pinecone: {e}\")\n",
    "    raise\n",
    "\n",
    "print(f\"Comprobando/Creando índice serverless '{PINECONE_INDEX_NAME}'...\")\n",
    "try:\n",
    "    index_list = pc.list_indexes()\n",
    "    existing_index_names = [index_info.name for index_info in index_list.indexes]\n",
    "\n",
    "    if PINECONE_INDEX_NAME not in existing_index_names:\n",
    "        print(f\"Índice '{PINECONE_INDEX_NAME}' no encontrado. Creando nuevo índice sin servidor...\")\n",
    "        pc.create_index(\n",
    "            name=PINECONE_INDEX_NAME,\n",
    "            dimension=EMBEDDING_DIMENSION,\n",
    "            metric=\"cosine\", # Métrica común para similitud semántica\n",
    "            spec=ServerlessSpec(\n",
    "                cloud=\"aws\",        # O \"gcp\", \"azure\" según tu proveedor\n",
    "                region=\"us-east-1\"  # Cambia esto a tu región de Pinecone Serverless (ej. \"us-west-2\" para AWS)\n",
    "                                    # os.getenv(\"PINECONE_LOC\") podría usarse aquí si define la región.\n",
    "            )\n",
    "        )\n",
    "        print(f\"Creación del índice '{PINECONE_INDEX_NAME}' iniciada. Esperando a que esté listo...\")\n",
    "        while not pc.describe_index(PINECONE_INDEX_NAME).status['ready']:\n",
    "            print(\"Esperando que el índice esté listo...\")\n",
    "            time.sleep(5)\n",
    "        print(f\"Índice '{PINECONE_INDEX_NAME}' está listo.\")\n",
    "    else:\n",
    "        print(f\"Índice '{PINECONE_INDEX_NAME}' ya existe.\")\n",
    "\n",
    "    # Obtener el host para el índice e instanciar un cliente de Índice específico\n",
    "    index_description = pc.describe_index(PINECONE_INDEX_NAME)\n",
    "    index_host = index_description.host\n",
    "    print(f\"Host para el índice '{PINECONE_INDEX_NAME}': {index_host}\")\n",
    "\n",
    "    pinecone_index_object = pc.Index(host=index_host)\n",
    "    print(f\"Cliente de índice Pinecone para el host '{index_host}' inicializado.\")\n",
    "\n",
    "except Exception as e:\n",
    "    print(f\"Error durante la creación/comprobación del índice o al obtener el cliente del índice para '{PINECONE_INDEX_NAME}': {e}\")\n",
    "    raise"
   ]
  },
  {
   "cell_type": "code",
   "execution_count": 7,
   "id": "9b9c09f7",
   "metadata": {},
   "outputs": [
    {
     "name": "stdout",
     "output_type": "stream",
     "text": [
      "PineconeVectorStore (Langchain) inicializado.\n",
      "Añadiendo 7 fragmentos de documentos al índice 'myindex2' (namespace: default)...\n",
      "Documentos añadidos a Pinecone mediante PineconeVectorStore.\n"
     ]
    }
   ],
   "source": [
    "if not chunks:\n",
    "    print(\"No hay chunks para cargar. Saltando la carga a Pinecone.\")\n",
    "else:\n",
    "    try:\n",
    "        vectorstore = PineconeVectorStore(\n",
    "            index=pinecone_index_object,      # Objeto de índice Pinecone específico\n",
    "            embedding=embeddings,             # Función de embedding de Langchain\n",
    "            text_key=\"text\",                  # Clave estándar para el contenido del texto en metadatos de Pinecone\n",
    "            namespace=PINECONE_NAMESPACE      # Namespace (opcional)\n",
    "        )\n",
    "        print(\"PineconeVectorStore (Langchain) inicializado.\")\n",
    "\n",
    "        # Añadir los chunks (documentos) al almacén de vectores en Pinecone\n",
    "        print(f\"Añadiendo {len(chunks)} fragmentos de documentos al índice '{PINECONE_INDEX_NAME}' (namespace: {PINECONE_NAMESPACE or 'default'})...\")\n",
    "        vectorstore.add_documents(documents=chunks)\n",
    "        print(\"Documentos añadidos a Pinecone mediante PineconeVectorStore.\")\n",
    "\n",
    "    except Exception as e:\n",
    "        print(f\"Error durante las operaciones de PineconeVectorStore (inicialización o adición de documentos): {e}\")\n",
    "        raise"
   ]
  },
  {
   "cell_type": "code",
   "execution_count": 8,
   "id": "66ef19a2",
   "metadata": {},
   "outputs": [
    {
     "name": "stdout",
     "output_type": "stream",
     "text": [
      "Realizando búsqueda de similitud para: '¿Cuál es el tema principal de los documentos?'\n",
      "\n",
      "\n",
      "Top 3 resultados de búsqueda de Langchain:\n",
      "--- Resultado 1 ---\n",
      "Contenido: a hacerlo) cualquier descripción, anotación, imagen, video, audio, dato, estadística u \n",
      "otra f orma de repro ducción d el even to, excep to para u so persona l y privado, cons tituye ndo \n",
      "el incumplimiento de cualquiera de dichas obligaciones igualme...\n",
      "Metadatos: {'page': 1.0, 'source': 'la-rosaleda_v3.pdf'}\n",
      "--------------------\n",
      "--- Resultado 2 ---\n",
      "Contenido: a hacerlo) cualquier descripción, anotación, imagen, video, audio, dato, estadística u \n",
      "otra f orma de repro ducción d el even to, excep to para u so persona l y privado, cons tituye ndo \n",
      "el incumplimiento de cualquiera de dichas obligaciones igualme...\n",
      "Metadatos: {'page': 1.0, 'source': 'la-rosaleda_v3.pdf'}\n",
      "--------------------\n",
      "--- Resultado 3 ---\n",
      "Contenido: a hacerlo) cualquier descripción, anotación, imagen, video, audio, dato, estadística u \n",
      "otra f orma de repro ducción d el even to, excep to para u so persona l y privado, cons tituye ndo \n",
      "el incumplimiento de cualquiera de dichas obligaciones igualme...\n",
      "Metadatos: {'page': 1.0, 'source': 'la-rosaleda_v3.pdf'}\n",
      "--------------------\n"
     ]
    }
   ],
   "source": [
    "\n",
    "if not chunks: # No se puede consultar si no se cargaron chunks\n",
    "    print(\"No se cargaron chunks, saltando la consulta de ejemplo.\")\n",
    "else:\n",
    "    try:\n",
    "        query_text = \"¿Cuál es el tema principal de los documentos?\" # Tu texto de consulta\n",
    "        print(f\"Realizando búsqueda de similitud para: '{query_text}'\")\n",
    "\n",
    "        search_results = vectorstore.similarity_search(\n",
    "            query=query_text,\n",
    "            k=3, # Número de resultados a devolver\n",
    "            namespace=PINECONE_NAMESPACE # Especifica el namespace si se usa\n",
    "        )\n",
    "        print(\"\\n\")\n",
    "        print(f\"Top {len(search_results)} resultados de búsqueda de Langchain:\")\n",
    "        for i, doc_result in enumerate(search_results):\n",
    "            print(f\"--- Resultado {i+1} ---\")\n",
    "            print(f\"Contenido: {doc_result.page_content[:250]}...\") # Imprime los primeros 250 caracteres\n",
    "            if doc_result.metadata:\n",
    "                print(f\"Metadatos: {doc_result.metadata}\")\n",
    "            print(\"-\" * 20)\n",
    "\n",
    "    except Exception as e:\n",
    "        print(f\"Error durante la búsqueda de similitud de Langchain: {e}\")"
   ]
  }
 ],
 "metadata": {
  "kernelspec": {
   "display_name": "env",
   "language": "python",
   "name": "python3"
  },
  "language_info": {
   "codemirror_mode": {
    "name": "ipython",
    "version": 3
   },
   "file_extension": ".py",
   "mimetype": "text/x-python",
   "name": "python",
   "nbconvert_exporter": "python",
   "pygments_lexer": "ipython3",
   "version": "3.12.3"
  }
 },
 "nbformat": 4,
 "nbformat_minor": 5
}
